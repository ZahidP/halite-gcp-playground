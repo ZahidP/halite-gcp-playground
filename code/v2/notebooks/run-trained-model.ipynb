{
 "cells": [
  {
   "cell_type": "code",
   "execution_count": 1,
   "metadata": {},
   "outputs": [],
   "source": [
    "import sys\n",
    "import os\n",
    "\n",
    "code_dir = os.environ.get('HALITE_PATH')\n",
    "\n",
    "if not code_dir:\n",
    "    code_dir = '/'.join(os.getcwd().split('/')[:-1] + ['rl_on_gcp'])\n",
    "    \n",
    "sys.path.append(code_dir)"
   ]
  },
  {
   "cell_type": "code",
   "execution_count": 2,
   "metadata": {},
   "outputs": [
    {
     "name": "stdout",
     "output_type": "stream",
     "text": [
      "Loading environment football failed: No module named 'gfootball'\n"
     ]
    }
   ],
   "source": [
    "from kaggle_environments import make\n",
    "from kaggle_environments.envs.halite.helpers import Board, ShipAction, ShipyardAction, Observation\n",
    "from halite_env import HaliteEnv\n",
    "from ship_state_wrapper import ShipStateWrapper\n",
    "from shipyard_state_wrapper import ShipYardStateWrapper\n",
    "from agent import Agent"
   ]
  },
  {
   "cell_type": "code",
   "execution_count": 3,
   "metadata": {},
   "outputs": [],
   "source": [
    "from halite_agent import HaliteAgent"
   ]
  },
  {
   "cell_type": "code",
   "execution_count": 4,
   "metadata": {},
   "outputs": [],
   "source": [
    "environment = make('halite', {'episodeSteps': 250}, debug=True)"
   ]
  },
  {
   "cell_type": "code",
   "execution_count": 5,
   "metadata": {},
   "outputs": [],
   "source": [
    "SHIP_MODEL_PATH = os.path.join(code_dir, 'my_model', 'ship_agent.h5')\n",
    "SHIPYARD_MODEL_PATH = os.path.join(code_dir, 'my_model', 'shipyard_agent.h5')"
   ]
  },
  {
   "cell_type": "code",
   "execution_count": null,
   "metadata": {},
   "outputs": [],
   "source": []
  },
  {
   "cell_type": "code",
   "execution_count": 6,
   "metadata": {},
   "outputs": [
    {
     "name": "stdout",
     "output_type": "stream",
     "text": [
      "732\n",
      "365\n"
     ]
    }
   ],
   "source": [
    "ship_state_wrapper = ShipStateWrapper(\n",
    "    radius=5,\n",
    "    max_frames=2,\n",
    "    map_size=int(environment.configuration['size'])\n",
    ")\n",
    "print(ship_state_wrapper.state_size)\n",
    "\n",
    "shipyard_state_wrapper = ShipYardStateWrapper(\n",
    "    radius=5,\n",
    "    max_frames=1,\n",
    "    map_size=int(environment.configuration['size'])\n",
    ")\n",
    "print(shipyard_state_wrapper.state_size)"
   ]
  },
  {
   "cell_type": "code",
   "execution_count": 7,
   "metadata": {},
   "outputs": [
    {
     "name": "stdout",
     "output_type": "stream",
     "text": [
      "732\n",
      "365\n"
     ]
    }
   ],
   "source": [
    "ship_agent = Agent(\n",
    "    alpha=0.001, gamma=0.9, n_actions=6,\n",
    "    batch_size=32, \n",
    "    epsilon=0.01, \n",
    "    epsilon_end=0.01,\n",
    "    input_dims=ship_state_wrapper.state_size,\n",
    "    fname=SHIP_MODEL_PATH,\n",
    ")\n",
    "\n",
    "ship_agent.load_weights(SHIP_MODEL_PATH)\n",
    "\n",
    "shipyard_agent = Agent(\n",
    "    alpha=0.001, \n",
    "    gamma=0.9, \n",
    "    n_actions=2,\n",
    "    batch_size=32, \n",
    "    epsilon=.01,\n",
    "    input_dims=shipyard_state_wrapper.state_size,\n",
    "    fname=SHIPYARD_MODEL_PATH,\n",
    ")\n",
    "\n",
    "shipyard_agent.load_weights(SHIPYARD_MODEL_PATH)"
   ]
  },
  {
   "cell_type": "code",
   "execution_count": 8,
   "metadata": {},
   "outputs": [],
   "source": [
    "halite_env = HaliteEnv(\n",
    "    opponents=1,\n",
    "    ship_state_wrapper=ship_state_wrapper,\n",
    "    shipyard_state_wrapper=shipyard_state_wrapper,\n",
    "    radius=5,\n",
    "    environment=None,\n",
    "    trainer=None\n",
    ")"
   ]
  },
  {
   "cell_type": "code",
   "execution_count": 9,
   "metadata": {},
   "outputs": [],
   "source": [
    "halite_agent_opponent = HaliteAgent(\n",
    "    configuration=environment.configuration,\n",
    "    halite_env=halite_env,\n",
    "    ship_agent=ship_agent,\n",
    "    shipyard_agent=shipyard_agent,\n",
    "    training=False,\n",
    "    verbose=False,\n",
    "    ship_frame_stack_len=2,\n",
    "    ship_state_wrapper=ship_state_wrapper,\n",
    "    shipyard_state_wrapper=shipyard_state_wrapper,\n",
    ")"
   ]
  },
  {
   "cell_type": "code",
   "execution_count": 10,
   "metadata": {},
   "outputs": [],
   "source": [
    "def call_opponent(observation, configuration):\n",
    "    \n",
    "    actions_for_step = {}\n",
    "    \n",
    "    raw_observation = observation\n",
    "    step_observation = Observation(observation)\n",
    "    \n",
    "    halite_agent_opponent.env.ship_state_wrapper.set_map_size(configuration['size'])\n",
    "        \n",
    "    raw_observation, shipyard_simulated_step_memory = halite_agent_opponent.get_moves_for_all_shipyards(\n",
    "        raw_observation=raw_observation,\n",
    "        step_observation=step_observation,\n",
    "        episode_number=1,\n",
    "        step_number=1\n",
    "    )\n",
    "\n",
    "    raw_observation, ship_simulated_step_memory = halite_agent_opponent.get_moves_for_all_ships(\n",
    "        raw_observation=raw_observation,\n",
    "        step_observation=step_observation,\n",
    "        episode_number=1,\n",
    "        step_number=1\n",
    "    )\n",
    "\n",
    "    for id_, action in halite_agent_opponent.actions_for_step.items():\n",
    "        actions_for_step[id_] = action\n",
    "\n",
    "    return actions_for_step"
   ]
  },
  {
   "cell_type": "code",
   "execution_count": 11,
   "metadata": {},
   "outputs": [],
   "source": [
    "from game_runner import GameRunner"
   ]
  },
  {
   "cell_type": "code",
   "execution_count": 12,
   "metadata": {},
   "outputs": [],
   "source": [
    "episodes = 5\n",
    "max_steps = 250"
   ]
  },
  {
   "cell_type": "code",
   "execution_count": 13,
   "metadata": {},
   "outputs": [
    {
     "name": "stdout",
     "output_type": "stream",
     "text": [
      "Ship 8-1 most likely collided, skipping this portion\n"
     ]
    }
   ],
   "source": [
    "results = environment.run([call_opponent, \"random\"])"
   ]
  },
  {
   "cell_type": "markdown",
   "metadata": {},
   "source": [
    "environment.render(mode=\"ipython\",width=800, height=600)"
   ]
  },
  {
   "cell_type": "code",
   "execution_count": null,
   "metadata": {},
   "outputs": [],
   "source": []
  }
 ],
 "metadata": {
  "kernelspec": {
   "display_name": "Python 3",
   "language": "python",
   "name": "python3"
  },
  "language_info": {
   "codemirror_mode": {
    "name": "ipython",
    "version": 3
   },
   "file_extension": ".py",
   "mimetype": "text/x-python",
   "name": "python",
   "nbconvert_exporter": "python",
   "pygments_lexer": "ipython3",
   "version": "3.6.0"
  }
 },
 "nbformat": 4,
 "nbformat_minor": 2
}
